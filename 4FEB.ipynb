{
 "cells": [
  {
   "cell_type": "markdown",
   "id": "d066f72a-889a-424a-947c-bf8232a37860",
   "metadata": {},
   "source": [
    "#LAMBDA FUNCTION"
   ]
  },
  {
   "cell_type": "code",
   "execution_count": 1,
   "id": "f5d6ab8b-27f4-4ef6-841e-238c1d661429",
   "metadata": {},
   "outputs": [],
   "source": [
    "n=3\n",
    "p=2"
   ]
  },
  {
   "cell_type": "code",
   "execution_count": 2,
   "id": "ac20cf42-ed8b-4e9b-b141-951bd4b1f17e",
   "metadata": {},
   "outputs": [],
   "source": [
    "def test(n,p):\n",
    "    return n**p"
   ]
  },
  {
   "cell_type": "code",
   "execution_count": 3,
   "id": "b5f9772c-19b4-48b1-b5c8-c547c1d69315",
   "metadata": {},
   "outputs": [
    {
     "data": {
      "text/plain": [
       "9"
      ]
     },
     "execution_count": 3,
     "metadata": {},
     "output_type": "execute_result"
    }
   ],
   "source": [
    "test(3,2)"
   ]
  },
  {
   "cell_type": "code",
   "execution_count": 4,
   "id": "28b3c993-1880-45c0-8e45-508d1c230766",
   "metadata": {},
   "outputs": [
    {
     "data": {
      "text/plain": [
       "3125"
      ]
     },
     "execution_count": 4,
     "metadata": {},
     "output_type": "execute_result"
    }
   ],
   "source": [
    "test(5,5)"
   ]
  },
  {
   "cell_type": "code",
   "execution_count": 6,
   "id": "59e555f1-ea3a-4fb5-8957-7b5adb99a14c",
   "metadata": {},
   "outputs": [
    {
     "data": {
      "text/plain": [
       "<function __main__.<lambda>(n, p)>"
      ]
     },
     "execution_count": 6,
     "metadata": {},
     "output_type": "execute_result"
    }
   ],
   "source": [
    "lambda n,p: n**p"
   ]
  },
  {
   "cell_type": "code",
   "execution_count": 7,
   "id": "18e495bb-c12a-44b0-bb26-e903d01dad4a",
   "metadata": {},
   "outputs": [],
   "source": [
    "a = lambda n,p: n**p"
   ]
  },
  {
   "cell_type": "code",
   "execution_count": 8,
   "id": "1df73e1e-8a35-445c-a78f-088937948b41",
   "metadata": {},
   "outputs": [
    {
     "data": {
      "text/plain": [
       "4"
      ]
     },
     "execution_count": 8,
     "metadata": {},
     "output_type": "execute_result"
    }
   ],
   "source": [
    "a(2,2)"
   ]
  },
  {
   "cell_type": "code",
   "execution_count": 9,
   "id": "2d350b8b-815f-4713-8771-cbeb03887a17",
   "metadata": {},
   "outputs": [
    {
     "data": {
      "text/plain": [
       "6561"
      ]
     },
     "execution_count": 9,
     "metadata": {},
     "output_type": "execute_result"
    }
   ],
   "source": [
    "a(9,4)"
   ]
  },
  {
   "cell_type": "code",
   "execution_count": 10,
   "id": "c7340979-f166-4114-8ad0-3ef4679fd9bd",
   "metadata": {},
   "outputs": [],
   "source": [
    "add= lambda x,y : x+y"
   ]
  },
  {
   "cell_type": "code",
   "execution_count": 11,
   "id": "7b9bee64-c08e-448c-9725-bcbf4878ab24",
   "metadata": {},
   "outputs": [
    {
     "data": {
      "text/plain": [
       "268"
      ]
     },
     "execution_count": 11,
     "metadata": {},
     "output_type": "execute_result"
    }
   ],
   "source": [
    "add(234 , 34)"
   ]
  },
  {
   "cell_type": "code",
   "execution_count": 13,
   "id": "3faa32b5-cd75-4b3d-bded-1637e552b59e",
   "metadata": {},
   "outputs": [],
   "source": [
    "c_to_f = lambda c : (9/5)*c+32"
   ]
  },
  {
   "cell_type": "code",
   "execution_count": 14,
   "id": "900b6521-86f6-4142-9e5d-0cb3fc297017",
   "metadata": {},
   "outputs": [
    {
     "data": {
      "text/plain": [
       "93.2"
      ]
     },
     "execution_count": 14,
     "metadata": {},
     "output_type": "execute_result"
    }
   ],
   "source": [
    "c_to_f(34)"
   ]
  },
  {
   "cell_type": "code",
   "execution_count": 15,
   "id": "a856bca4-c8e6-48a8-a417-d2baef1a9bc1",
   "metadata": {},
   "outputs": [],
   "source": [
    "max_two = lambda x,y : x if x>y else y"
   ]
  },
  {
   "cell_type": "code",
   "execution_count": 16,
   "id": "9102ae3b-5511-4fc5-8499-784dbc9cce7a",
   "metadata": {},
   "outputs": [
    {
     "data": {
      "text/plain": [
       "56"
      ]
     },
     "execution_count": 16,
     "metadata": {},
     "output_type": "execute_result"
    }
   ],
   "source": [
    "max_two(4,56)"
   ]
  },
  {
   "cell_type": "code",
   "execution_count": 17,
   "id": "99eb3b17-d34c-4281-8b92-0dfc8b619ad7",
   "metadata": {},
   "outputs": [],
   "source": [
    "s= \"pwskilss\""
   ]
  },
  {
   "cell_type": "code",
   "execution_count": 19,
   "id": "bbbb360f-7135-4485-84be-26d2b78d677f",
   "metadata": {},
   "outputs": [],
   "source": [
    "len_st = lambda s : len(s)"
   ]
  },
  {
   "cell_type": "code",
   "execution_count": 20,
   "id": "41c25d9b-f865-4cb0-8a8e-0e4530aa10d6",
   "metadata": {},
   "outputs": [
    {
     "data": {
      "text/plain": [
       "8"
      ]
     },
     "execution_count": 20,
     "metadata": {},
     "output_type": "execute_result"
    }
   ],
   "source": [
    "len_st(s)"
   ]
  },
  {
   "cell_type": "markdown",
   "id": "db77758d-edbc-44c4-aac1-1e786a4f0aa3",
   "metadata": {},
   "source": [
    "# MAP , REDUCE & FILTER FUNCTIONS"
   ]
  },
  {
   "cell_type": "code",
   "execution_count": 22,
   "id": "eb980b2f-e616-4746-9244-c2d9681ef6ea",
   "metadata": {},
   "outputs": [],
   "source": [
    "l = [ 1,2,5,9,11,10]"
   ]
  },
  {
   "cell_type": "code",
   "execution_count": 34,
   "id": "368db019-12e4-4cc3-ba29-04089757d6be",
   "metadata": {},
   "outputs": [],
   "source": [
    "def test(l):\n",
    "    l1= []\n",
    "    for i in l:\n",
    "        l1.append(i**2)\n",
    "    return l1"
   ]
  },
  {
   "cell_type": "code",
   "execution_count": 36,
   "id": "c86ccfab-9821-4c3a-af5b-7708973bafc4",
   "metadata": {},
   "outputs": [
    {
     "data": {
      "text/plain": [
       "[1, 4, 25, 81, 121, 100]"
      ]
     },
     "execution_count": 36,
     "metadata": {},
     "output_type": "execute_result"
    }
   ],
   "source": [
    "test(l)"
   ]
  },
  {
   "cell_type": "code",
   "execution_count": 38,
   "id": "305ef063-908d-49d1-a89b-2553646418d1",
   "metadata": {},
   "outputs": [],
   "source": [
    "def sq(x):\n",
    "    return x**2\n",
    "    "
   ]
  },
  {
   "cell_type": "code",
   "execution_count": 39,
   "id": "62b6166a-2b74-4465-9324-d4ff51664e48",
   "metadata": {},
   "outputs": [
    {
     "data": {
      "text/plain": [
       "<map at 0x7f04eca78cd0>"
      ]
     },
     "execution_count": 39,
     "metadata": {},
     "output_type": "execute_result"
    }
   ],
   "source": [
    "map(sq,l)"
   ]
  },
  {
   "cell_type": "code",
   "execution_count": 40,
   "id": "cda5fc7a-40c5-41f4-a66b-255b2edb0bd2",
   "metadata": {},
   "outputs": [
    {
     "data": {
      "text/plain": [
       "[1, 4, 25, 81, 121, 100]"
      ]
     },
     "execution_count": 40,
     "metadata": {},
     "output_type": "execute_result"
    }
   ],
   "source": [
    "list(map(sq,l))"
   ]
  },
  {
   "cell_type": "code",
   "execution_count": 41,
   "id": "65767d21-7b74-45ba-af9d-2402cc762ad0",
   "metadata": {},
   "outputs": [
    {
     "data": {
      "text/plain": [
       "[1, 4, 25, 81, 121, 100]"
      ]
     },
     "execution_count": 41,
     "metadata": {},
     "output_type": "execute_result"
    }
   ],
   "source": [
    "list(map(lambda x : x**2 , l ))"
   ]
  },
  {
   "cell_type": "code",
   "execution_count": 42,
   "id": "01301877-c381-48f2-ae28-c2170d010096",
   "metadata": {},
   "outputs": [
    {
     "data": {
      "text/plain": [
       "[11, 12, 15, 19, 21, 20]"
      ]
     },
     "execution_count": 42,
     "metadata": {},
     "output_type": "execute_result"
    }
   ],
   "source": [
    "list(map(lambda x : x+10 , l ))"
   ]
  },
  {
   "cell_type": "code",
   "execution_count": 44,
   "id": "6b6cb3aa-95cb-41f4-ba0b-3ca619c24870",
   "metadata": {},
   "outputs": [
    {
     "data": {
      "text/plain": [
       "['1', '2', '5', '9', '11', '10']"
      ]
     },
     "execution_count": 44,
     "metadata": {},
     "output_type": "execute_result"
    }
   ],
   "source": [
    "list(map(lambda x : str(x) , l ))"
   ]
  },
  {
   "cell_type": "code",
   "execution_count": 45,
   "id": "819a4808-c74d-4be7-8ca0-8fa690ba50b9",
   "metadata": {},
   "outputs": [],
   "source": [
    "l2=[1,2,3,4,5]\n",
    "l3=[4,5,6,7,9]\n"
   ]
  },
  {
   "cell_type": "code",
   "execution_count": 46,
   "id": "4c7e4207-3499-46ea-9644-d1505c1ed231",
   "metadata": {},
   "outputs": [
    {
     "data": {
      "text/plain": [
       "[5, 7, 9, 11, 14]"
      ]
     },
     "execution_count": 46,
     "metadata": {},
     "output_type": "execute_result"
    }
   ],
   "source": [
    "list(map(lambda x,y:x+y , l2,l3))"
   ]
  },
  {
   "cell_type": "code",
   "execution_count": 48,
   "id": "7aad2eba-7216-41b5-abcc-01c45d237a27",
   "metadata": {},
   "outputs": [
    {
     "data": {
      "text/plain": [
       "[5, 7, 9, 11, 14]"
      ]
     },
     "execution_count": 48,
     "metadata": {},
     "output_type": "execute_result"
    }
   ],
   "source": [
    "list(map(f, l2,l3))"
   ]
  },
  {
   "cell_type": "code",
   "execution_count": 49,
   "id": "6b543fc0-4647-4d97-8a21-6c4218b98f94",
   "metadata": {},
   "outputs": [],
   "source": [
    "f= lambda x,y:x+y"
   ]
  },
  {
   "cell_type": "code",
   "execution_count": 50,
   "id": "ae76add1-5bab-4f8f-bd40-8553268b6d51",
   "metadata": {},
   "outputs": [],
   "source": [
    "s= \"pwskilss\""
   ]
  },
  {
   "cell_type": "code",
   "execution_count": 52,
   "id": "2ed084ad-86d7-4d29-9e3d-06ab81761417",
   "metadata": {},
   "outputs": [
    {
     "data": {
      "text/plain": [
       "['P', 'W', 'S', 'K', 'I', 'L', 'S', 'S']"
      ]
     },
     "execution_count": 52,
     "metadata": {},
     "output_type": "execute_result"
    }
   ],
   "source": [
    "list(map(lambda x:x.upper() ,s))"
   ]
  },
  {
   "cell_type": "code",
   "execution_count": 53,
   "id": "4edaa25e-1eb3-40ec-a620-1b8510441d98",
   "metadata": {},
   "outputs": [],
   "source": [
    "from functools import reduce"
   ]
  },
  {
   "cell_type": "code",
   "execution_count": 54,
   "id": "2f9e9b6a-4d10-4c04-9830-05c73e02f9c1",
   "metadata": {},
   "outputs": [],
   "source": [
    "l = [1,2,3,4,5,6,3]"
   ]
  },
  {
   "cell_type": "code",
   "execution_count": 59,
   "id": "ed90157a-a878-4219-aa87-c26b14a56ebf",
   "metadata": {},
   "outputs": [
    {
     "data": {
      "text/plain": [
       "24"
      ]
     },
     "execution_count": 59,
     "metadata": {},
     "output_type": "execute_result"
    }
   ],
   "source": [
    "reduce(lambda x,y: x+y , l)"
   ]
  },
  {
   "cell_type": "code",
   "execution_count": 60,
   "id": "73600a6c-2fe6-48e4-8f53-154ce0f11341",
   "metadata": {},
   "outputs": [],
   "source": [
    "def add(x,y):\n",
    "    return x+y"
   ]
  },
  {
   "cell_type": "code",
   "execution_count": 61,
   "id": "ce0c2df0-38e6-44e8-87d6-7f31ecd83810",
   "metadata": {},
   "outputs": [
    {
     "data": {
      "text/plain": [
       "24"
      ]
     },
     "execution_count": 61,
     "metadata": {},
     "output_type": "execute_result"
    }
   ],
   "source": [
    "reduce(add , l)"
   ]
  },
  {
   "cell_type": "code",
   "execution_count": 62,
   "id": "91775554-58eb-4e73-8298-8bd76bd1dd56",
   "metadata": {},
   "outputs": [
    {
     "ename": "TypeError",
     "evalue": "<lambda>() missing 1 required positional argument: 'z'",
     "output_type": "error",
     "traceback": [
      "\u001b[0;31m---------------------------------------------------------------------------\u001b[0m",
      "\u001b[0;31mTypeError\u001b[0m                                 Traceback (most recent call last)",
      "Cell \u001b[0;32mIn[62], line 1\u001b[0m\n\u001b[0;32m----> 1\u001b[0m \u001b[43mreduce\u001b[49m\u001b[43m(\u001b[49m\u001b[38;5;28;43;01mlambda\u001b[39;49;00m\u001b[43m \u001b[49m\u001b[43mx\u001b[49m\u001b[43m,\u001b[49m\u001b[43my\u001b[49m\u001b[43m,\u001b[49m\u001b[43mz\u001b[49m\u001b[43m:\u001b[49m\u001b[43m \u001b[49m\u001b[43mx\u001b[49m\u001b[38;5;241;43m+\u001b[39;49m\u001b[43my\u001b[49m\u001b[38;5;241;43m+\u001b[39;49m\u001b[43mz\u001b[49m\u001b[43m \u001b[49m\u001b[43m,\u001b[49m\u001b[43m \u001b[49m\u001b[43ml\u001b[49m\u001b[43m)\u001b[49m\n",
      "\u001b[0;31mTypeError\u001b[0m: <lambda>() missing 1 required positional argument: 'z'"
     ]
    }
   ],
   "source": [
    "reduce(lambda x,y,z: x+y+z , l)"
   ]
  },
  {
   "cell_type": "code",
   "execution_count": 66,
   "id": "427e98d1-d466-4bdc-9d6f-9c8050e7537b",
   "metadata": {},
   "outputs": [
    {
     "data": {
      "text/plain": [
       "[1, 2, 3, 4, 5, 6, 3]"
      ]
     },
     "execution_count": 66,
     "metadata": {},
     "output_type": "execute_result"
    }
   ],
   "source": [
    "reduce(lambda x,y,: x+y , [l])"
   ]
  },
  {
   "cell_type": "code",
   "execution_count": 67,
   "id": "d3467250-df64-4055-8800-7c7b81301051",
   "metadata": {},
   "outputs": [
    {
     "ename": "TypeError",
     "evalue": "reduce() of empty iterable with no initial value",
     "output_type": "error",
     "traceback": [
      "\u001b[0;31m---------------------------------------------------------------------------\u001b[0m",
      "\u001b[0;31mTypeError\u001b[0m                                 Traceback (most recent call last)",
      "Cell \u001b[0;32mIn[67], line 1\u001b[0m\n\u001b[0;32m----> 1\u001b[0m \u001b[43mreduce\u001b[49m\u001b[43m(\u001b[49m\u001b[38;5;28;43;01mlambda\u001b[39;49;00m\u001b[43m \u001b[49m\u001b[43mx\u001b[49m\u001b[43m,\u001b[49m\u001b[43my\u001b[49m\u001b[43m,\u001b[49m\u001b[43m:\u001b[49m\u001b[43m \u001b[49m\u001b[43mx\u001b[49m\u001b[38;5;241;43m+\u001b[39;49m\u001b[43my\u001b[49m\u001b[43m \u001b[49m\u001b[43m,\u001b[49m\u001b[43m \u001b[49m\u001b[43m[\u001b[49m\u001b[43m]\u001b[49m\u001b[43m)\u001b[49m\n",
      "\u001b[0;31mTypeError\u001b[0m: reduce() of empty iterable with no initial value"
     ]
    }
   ],
   "source": [
    "reduce(lambda x,y,: x+y , [])"
   ]
  },
  {
   "cell_type": "code",
   "execution_count": 68,
   "id": "c991ac86-f553-4b24-8994-04d5ad3d855b",
   "metadata": {},
   "outputs": [
    {
     "data": {
      "text/plain": [
       "1"
      ]
     },
     "execution_count": 68,
     "metadata": {},
     "output_type": "execute_result"
    }
   ],
   "source": [
    "reduce(lambda x,y,: x+y , [1])"
   ]
  },
  {
   "cell_type": "code",
   "execution_count": 69,
   "id": "715e8756-7cfd-41b9-81e4-3e0da4084451",
   "metadata": {},
   "outputs": [
    {
     "data": {
      "text/plain": [
       "1"
      ]
     },
     "execution_count": 69,
     "metadata": {},
     "output_type": "execute_result"
    }
   ],
   "source": [
    "reduce(lambda x,y,: x*y , [1])"
   ]
  },
  {
   "cell_type": "code",
   "execution_count": 70,
   "id": "821889a8-0bb5-4d29-8d28-2ab5f1cf9ba0",
   "metadata": {},
   "outputs": [],
   "source": [
    "l=[2,5,6,9,7]"
   ]
  },
  {
   "cell_type": "code",
   "execution_count": 72,
   "id": "68641282-8d1a-42ad-b0ea-3c5e4e176707",
   "metadata": {},
   "outputs": [
    {
     "data": {
      "text/plain": [
       "9"
      ]
     },
     "execution_count": 72,
     "metadata": {},
     "output_type": "execute_result"
    }
   ],
   "source": [
    "reduce(lambda x,y: x if x>y else y , l)"
   ]
  },
  {
   "cell_type": "code",
   "execution_count": 73,
   "id": "20549c22-e62a-491e-a631-df4eb9762a3c",
   "metadata": {},
   "outputs": [
    {
     "data": {
      "text/plain": [
       "[2, 5, 6, 9, 7]"
      ]
     },
     "execution_count": 73,
     "metadata": {},
     "output_type": "execute_result"
    }
   ],
   "source": [
    "l"
   ]
  },
  {
   "cell_type": "code",
   "execution_count": 75,
   "id": "5f7e0180-419c-4221-bc72-4a5940c148a5",
   "metadata": {},
   "outputs": [
    {
     "data": {
      "text/plain": [
       "[2, 6]"
      ]
     },
     "execution_count": 75,
     "metadata": {},
     "output_type": "execute_result"
    }
   ],
   "source": [
    "list(filter(lambda x : x%2==0 , l))"
   ]
  },
  {
   "cell_type": "code",
   "execution_count": 76,
   "id": "89eaacda-ecfc-4787-b2b3-a630d5096af5",
   "metadata": {},
   "outputs": [
    {
     "data": {
      "text/plain": [
       "[5, 9, 7]"
      ]
     },
     "execution_count": 76,
     "metadata": {},
     "output_type": "execute_result"
    }
   ],
   "source": [
    "list(filter(lambda x : x%2!=0 , l))"
   ]
  },
  {
   "cell_type": "code",
   "execution_count": 78,
   "id": "b162ed4f-98fa-458a-a3ca-a886e432c0b6",
   "metadata": {},
   "outputs": [],
   "source": [
    "l1= [-2,-4,0,2,5,6,-4,-8,-2,7,-13]"
   ]
  },
  {
   "cell_type": "code",
   "execution_count": 79,
   "id": "0f959d4e-4216-4033-85b6-cd18024aa037",
   "metadata": {},
   "outputs": [
    {
     "data": {
      "text/plain": [
       "<filter at 0x7f04eca78b50>"
      ]
     },
     "execution_count": 79,
     "metadata": {},
     "output_type": "execute_result"
    }
   ],
   "source": [
    "filter(lambda x:x<0 , l)"
   ]
  },
  {
   "cell_type": "code",
   "execution_count": 81,
   "id": "8aba840b-fe11-4a94-865f-39b59641dee9",
   "metadata": {},
   "outputs": [
    {
     "data": {
      "text/plain": [
       "[-2, -4, -4, -8, -2, -13]"
      ]
     },
     "execution_count": 81,
     "metadata": {},
     "output_type": "execute_result"
    }
   ],
   "source": [
    "list(filter(lambda x:x<0 , l1))"
   ]
  },
  {
   "cell_type": "code",
   "execution_count": 82,
   "id": "dbcc5f30-7341-4a3d-962c-cfbd5118b1e6",
   "metadata": {},
   "outputs": [
    {
     "data": {
      "text/plain": [
       "[2, 5, 6, 7]"
      ]
     },
     "execution_count": 82,
     "metadata": {},
     "output_type": "execute_result"
    }
   ],
   "source": [
    "list(filter(lambda x:x>0 , l1))"
   ]
  },
  {
   "cell_type": "code",
   "execution_count": 83,
   "id": "d44eba49-d642-45fa-aaf1-77c0c799a1a2",
   "metadata": {},
   "outputs": [],
   "source": [
    "l2 = [\"kumar \" , \"pwskills\" , \"banglore \" , \"krishna\" , \"good\" , \"hello\" ]"
   ]
  },
  {
   "cell_type": "code",
   "execution_count": 84,
   "id": "7580ff3b-b238-4197-a348-74053ecfaa20",
   "metadata": {},
   "outputs": [
    {
     "data": {
      "text/plain": [
       "<filter at 0x7f04eca78250>"
      ]
     },
     "execution_count": 84,
     "metadata": {},
     "output_type": "execute_result"
    }
   ],
   "source": [
    "filter(lambda x : len(x)<6 , l2)"
   ]
  },
  {
   "cell_type": "code",
   "execution_count": 85,
   "id": "83558c0a-c63d-4613-ae66-17f9d5d2e95a",
   "metadata": {},
   "outputs": [
    {
     "data": {
      "text/plain": [
       "['good', 'hello']"
      ]
     },
     "execution_count": 85,
     "metadata": {},
     "output_type": "execute_result"
    }
   ],
   "source": [
    "list(filter(lambda x : len(x)<6 , l2))"
   ]
  },
  {
   "cell_type": "code",
   "execution_count": 86,
   "id": "c84464cb-59c0-45ec-8683-c1a072538939",
   "metadata": {},
   "outputs": [
    {
     "data": {
      "text/plain": [
       "['kumar ', 'pwskills', 'banglore ', 'krishna']"
      ]
     },
     "execution_count": 86,
     "metadata": {},
     "output_type": "execute_result"
    }
   ],
   "source": [
    "list(filter(lambda x : len(x)>5 , l2))"
   ]
  },
  {
   "cell_type": "code",
   "execution_count": null,
   "id": "b22f3321-78d5-4ad1-8ff4-95ffbe0be546",
   "metadata": {},
   "outputs": [],
   "source": []
  }
 ],
 "metadata": {
  "kernelspec": {
   "display_name": "Python 3 (ipykernel)",
   "language": "python",
   "name": "python3"
  },
  "language_info": {
   "codemirror_mode": {
    "name": "ipython",
    "version": 3
   },
   "file_extension": ".py",
   "mimetype": "text/x-python",
   "name": "python",
   "nbconvert_exporter": "python",
   "pygments_lexer": "ipython3",
   "version": "3.10.8"
  }
 },
 "nbformat": 4,
 "nbformat_minor": 5
}
